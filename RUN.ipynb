{
  "cells": [
    {
      "cell_type": "code",
      "execution_count": null,
      "metadata": {
        "colab": {
          "background_save": true,
          "base_uri": "https://localhost:8080/"
        },
        "id": "m9B9rtb5Wf2B",
        "outputId": "68ee757b-3c6a-42e4-dde7-9cce36d91d2e"
      },
      "outputs": [],
      "source": [
        "#@title DumpTool\n",
        "password = '' #@param {type:\"string\"}\n",
        "file_rclone = '' #@param {type:\"string\"}\n",
        "token_ngrok = '' #@param {type:\"string\"}\n",
        "gd_folder = 'Root' #@param {type:\"string\"}\n",
        "install_app = 'masscan;coolab' #@param {type:\"string\"}\n",
        "!wget -O dump.sh https://github.com/akbaryahya/DumpTool/raw/main/start.sh > /dev/null 2>&1 && chmod +x dump.sh && ./dump.sh \"$password\" \"$file_rclone\" \"$token_ngrok\" \"$gd_folder\" \"$install_app\""
      ]
    },
    {
      "cell_type": "code",
      "execution_count": null,
      "metadata": {
        "colab": {
          "base_uri": "https://localhost:8080/",
          "height": 139,
          "referenced_widgets": [
            "298dc50202e44320a7863fd423a44576"
          ]
        },
        "id": "WIKW3UW6WoNP",
        "outputId": "b53fcedd-474c-46d5-d76d-eb1e888bf7ad"
      },
      "outputs": [],
      "source": [
        "import coolab\n",
        "coolab.Code().run()"
      ]
    }
  ],
  "metadata": {
    "colab": {
      "collapsed_sections": [],
      "name": "G.ipynb",
      "provenance": []
    },
    "kernelspec": {
      "display_name": "Python 3",
      "name": "python3"
    },
    "language_info": {
      "name": "python"
    }
  },
  "nbformat": 4,
  "nbformat_minor": 0
}
